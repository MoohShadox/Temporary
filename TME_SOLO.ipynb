{
  "nbformat": 4,
  "nbformat_minor": 5,
  "metadata": {
    "kernelspec": {
      "display_name": "Python 3",
      "language": "python",
      "name": "python3"
    },
    "language_info": {
      "codemirror_mode": {
        "name": "ipython",
        "version": 3
      },
      "file_extension": ".py",
      "mimetype": "text/x-python",
      "name": "python",
      "nbconvert_exporter": "python",
      "pygments_lexer": "ipython3",
      "version": "3.8.8"
    },
    "colab": {
      "name": "TME_SOLO_V2.ipynb",
      "provenance": [],
      "collapsed_sections": []
    }
  },
  "cells": [
    {
      "cell_type": "code",
      "metadata": {
        "id": "f3291786"
      },
      "source": [
        "import pandas as pd\n",
        "import numpy as np\n",
        "import matplotlib.pyplot as plt"
      ],
      "id": "f3291786",
      "execution_count": 1,
      "outputs": []
    },
    {
      "cell_type": "code",
      "metadata": {
        "colab": {
          "base_uri": "https://localhost:8080/"
        },
        "id": "8CCX0FHAITZS",
        "outputId": "5649b72a-571f-4cb9-b5bf-58574d647409"
      },
      "source": [
        "## Getting the files\n",
        "!git clone https://github.com/MoohShadox/Temporary.git\n",
        "!ls"
      ],
      "id": "8CCX0FHAITZS",
      "execution_count": 2,
      "outputs": [
        {
          "output_type": "stream",
          "name": "stdout",
          "text": [
            "Cloning into 'Temporary'...\n",
            "remote: Enumerating objects: 4, done.\u001b[K\n",
            "remote: Counting objects: 100% (4/4), done.\u001b[K\n",
            "remote: Compressing objects: 100% (4/4), done.\u001b[K\n",
            "remote: Total 4 (delta 0), reused 0 (delta 0), pack-reused 0\u001b[K\n",
            "Unpacking objects: 100% (4/4), done.\n",
            "sample_data  Temporary\n"
          ]
        }
      ]
    },
    {
      "cell_type": "markdown",
      "metadata": {
        "id": "eb069594"
      },
      "source": [
        "# TME Solo\n",
        "\n",
        "Le sujet le barème est donné à titre indicatif."
      ],
      "id": "eb069594"
    },
    {
      "cell_type": "markdown",
      "metadata": {
        "id": "9a1653ca"
      },
      "source": [
        "## Exercice 1: Cas Pratique\n",
        "\n",
        "Dans cet exercice nous vous fournissons un ensemble de données puis il s'agira pour vous de répondre a plusieurs questions: \n",
        "\n",
        "- les 3 premières questions sont des questions directes qui admettent une réponse unique claire et non ambigue.    \n",
        "- Dans la derni-re on vous demande de fournir une analyse de votre démarche et des résultats que vous avez obtenus.\n",
        "\n",
        "Dans tous les cas il vous faudra écrire 2 blocs, 1 bloc de code et un bloc qui explique le résultat et vous serrez évalués sur l'efficacité de votre solution (évitez les boucles for, et si vous en faites privilégiez les comprehension lists).\n",
        "\n",
        "Voici l'ensemble de données"
      ],
      "id": "9a1653ca"
    },
    {
      "cell_type": "code",
      "metadata": {
        "scrolled": true,
        "id": "92eaa1ff",
        "colab": {
          "base_uri": "https://localhost:8080/",
          "height": 898
        },
        "outputId": "676b1430-8b8d-45d6-a952-9be76af75b4d"
      },
      "source": [
        "df = pd.read_csv(\"Temporary/insertions_pro.csv\", index_col=False)\n",
        "df.drop(\"Unnamed: 0\", axis=1, inplace=True)\n",
        "df = df.dropna()\n",
        "df"
      ],
      "id": "92eaa1ff",
      "execution_count": 3,
      "outputs": [
        {
          "output_type": "execute_result",
          "data": {
            "text/html": [
              "<div>\n",
              "<style scoped>\n",
              "    .dataframe tbody tr th:only-of-type {\n",
              "        vertical-align: middle;\n",
              "    }\n",
              "\n",
              "    .dataframe tbody tr th {\n",
              "        vertical-align: top;\n",
              "    }\n",
              "\n",
              "    .dataframe thead th {\n",
              "        text-align: right;\n",
              "    }\n",
              "</style>\n",
              "<table border=\"1\" class=\"dataframe\">\n",
              "  <thead>\n",
              "    <tr style=\"text-align: right;\">\n",
              "      <th></th>\n",
              "      <th>annee</th>\n",
              "      <th>diplome</th>\n",
              "      <th>etablissement</th>\n",
              "      <th>academie</th>\n",
              "      <th>domaine</th>\n",
              "      <th>discipline</th>\n",
              "      <th>situation</th>\n",
              "      <th>nombre_de_reponses</th>\n",
              "      <th>taux_de_reponse</th>\n",
              "      <th>taux_dinsertion</th>\n",
              "      <th>de_diplomes_boursiers</th>\n",
              "      <th>taux_de_chomage_regional</th>\n",
              "      <th>salaire_net_mensuel_median_regional</th>\n",
              "      <th>long_academie</th>\n",
              "      <th>lat_academie</th>\n",
              "    </tr>\n",
              "  </thead>\n",
              "  <tbody>\n",
              "    <tr>\n",
              "      <th>0</th>\n",
              "      <td>2016.0</td>\n",
              "      <td>MASTER LMD</td>\n",
              "      <td>Avignon</td>\n",
              "      <td>Aix-Marseille</td>\n",
              "      <td>Droit, économie et gestion</td>\n",
              "      <td>Ensemble formations juridiques, économiques et...</td>\n",
              "      <td>30 mois après le diplôme</td>\n",
              "      <td>32.0</td>\n",
              "      <td>67.0</td>\n",
              "      <td>91.0</td>\n",
              "      <td>45.0</td>\n",
              "      <td>10.2</td>\n",
              "      <td>1800.0</td>\n",
              "      <td>43.784646</td>\n",
              "      <td>5.356600</td>\n",
              "    </tr>\n",
              "    <tr>\n",
              "      <th>1</th>\n",
              "      <td>2016.0</td>\n",
              "      <td>MASTER LMD</td>\n",
              "      <td>Avignon</td>\n",
              "      <td>Aix-Marseille</td>\n",
              "      <td>Sciences, technologies et santé</td>\n",
              "      <td>Sciences de la vie et de la terre</td>\n",
              "      <td>30 mois après le diplôme</td>\n",
              "      <td>31.0</td>\n",
              "      <td>83.0</td>\n",
              "      <td>71.0</td>\n",
              "      <td>45.0</td>\n",
              "      <td>10.2</td>\n",
              "      <td>1800.0</td>\n",
              "      <td>43.784646</td>\n",
              "      <td>5.356600</td>\n",
              "    </tr>\n",
              "    <tr>\n",
              "      <th>2</th>\n",
              "      <td>2017.0</td>\n",
              "      <td>MASTER LMD</td>\n",
              "      <td>Aix-Marseille</td>\n",
              "      <td>Aix-Marseille</td>\n",
              "      <td>Sciences humaines et sociales</td>\n",
              "      <td>Ensemble sciences humaines et sociales</td>\n",
              "      <td>30 mois après le diplôme</td>\n",
              "      <td>258.0</td>\n",
              "      <td>70.0</td>\n",
              "      <td>88.0</td>\n",
              "      <td>33.0</td>\n",
              "      <td>9.1</td>\n",
              "      <td>1840.0</td>\n",
              "      <td>43.784646</td>\n",
              "      <td>5.356600</td>\n",
              "    </tr>\n",
              "    <tr>\n",
              "      <th>3</th>\n",
              "      <td>2017.0</td>\n",
              "      <td>MASTER LMD</td>\n",
              "      <td>Aix-Marseille</td>\n",
              "      <td>Aix-Marseille</td>\n",
              "      <td>Sciences humaines et sociales</td>\n",
              "      <td>Autres sciences humaines et sociales</td>\n",
              "      <td>30 mois après le diplôme</td>\n",
              "      <td>66.0</td>\n",
              "      <td>71.0</td>\n",
              "      <td>88.0</td>\n",
              "      <td>33.0</td>\n",
              "      <td>9.1</td>\n",
              "      <td>1840.0</td>\n",
              "      <td>43.784646</td>\n",
              "      <td>5.356600</td>\n",
              "    </tr>\n",
              "    <tr>\n",
              "      <th>4</th>\n",
              "      <td>2017.0</td>\n",
              "      <td>MASTER LMD</td>\n",
              "      <td>Aix-Marseille</td>\n",
              "      <td>Aix-Marseille</td>\n",
              "      <td>Sciences, technologies et santé</td>\n",
              "      <td>Sciences fondamentales</td>\n",
              "      <td>30 mois après le diplôme</td>\n",
              "      <td>50.0</td>\n",
              "      <td>73.0</td>\n",
              "      <td>92.0</td>\n",
              "      <td>33.0</td>\n",
              "      <td>9.1</td>\n",
              "      <td>1840.0</td>\n",
              "      <td>43.784646</td>\n",
              "      <td>5.356600</td>\n",
              "    </tr>\n",
              "    <tr>\n",
              "      <th>...</th>\n",
              "      <td>...</td>\n",
              "      <td>...</td>\n",
              "      <td>...</td>\n",
              "      <td>...</td>\n",
              "      <td>...</td>\n",
              "      <td>...</td>\n",
              "      <td>...</td>\n",
              "      <td>...</td>\n",
              "      <td>...</td>\n",
              "      <td>...</td>\n",
              "      <td>...</td>\n",
              "      <td>...</td>\n",
              "      <td>...</td>\n",
              "      <td>...</td>\n",
              "      <td>...</td>\n",
              "    </tr>\n",
              "    <tr>\n",
              "      <th>6904</th>\n",
              "      <td>2015.0</td>\n",
              "      <td>MASTER LMD</td>\n",
              "      <td>Paris Nanterre</td>\n",
              "      <td>Versailles</td>\n",
              "      <td>Droit, économie et gestion</td>\n",
              "      <td>Gestion</td>\n",
              "      <td>18 mois après le diplôme</td>\n",
              "      <td>81.0</td>\n",
              "      <td>59.0</td>\n",
              "      <td>88.0</td>\n",
              "      <td>27.0</td>\n",
              "      <td>7.8</td>\n",
              "      <td>2060.0</td>\n",
              "      <td>48.827458</td>\n",
              "      <td>2.158779</td>\n",
              "    </tr>\n",
              "    <tr>\n",
              "      <th>6905</th>\n",
              "      <td>2015.0</td>\n",
              "      <td>MASTER ENS</td>\n",
              "      <td>Cergy-Pontoise</td>\n",
              "      <td>Versailles</td>\n",
              "      <td>Masters enseignement</td>\n",
              "      <td>Masters enseignement</td>\n",
              "      <td>18 mois après le diplôme</td>\n",
              "      <td>223.0</td>\n",
              "      <td>71.0</td>\n",
              "      <td>99.0</td>\n",
              "      <td>9.0</td>\n",
              "      <td>7.8</td>\n",
              "      <td>2060.0</td>\n",
              "      <td>48.827458</td>\n",
              "      <td>2.158779</td>\n",
              "    </tr>\n",
              "    <tr>\n",
              "      <th>6906</th>\n",
              "      <td>2015.0</td>\n",
              "      <td>MASTER LMD</td>\n",
              "      <td>Cergy-Pontoise</td>\n",
              "      <td>Versailles</td>\n",
              "      <td>Droit, économie et gestion</td>\n",
              "      <td>Ensemble formations juridiques, économiques et...</td>\n",
              "      <td>30 mois après le diplôme</td>\n",
              "      <td>160.0</td>\n",
              "      <td>71.0</td>\n",
              "      <td>92.0</td>\n",
              "      <td>16.0</td>\n",
              "      <td>7.8</td>\n",
              "      <td>2060.0</td>\n",
              "      <td>48.827458</td>\n",
              "      <td>2.158779</td>\n",
              "    </tr>\n",
              "    <tr>\n",
              "      <th>6907</th>\n",
              "      <td>2015.0</td>\n",
              "      <td>MASTER LMD</td>\n",
              "      <td>Cergy-Pontoise</td>\n",
              "      <td>Versailles</td>\n",
              "      <td>Droit, économie et gestion</td>\n",
              "      <td>Droit</td>\n",
              "      <td>18 mois après le diplôme</td>\n",
              "      <td>44.0</td>\n",
              "      <td>74.0</td>\n",
              "      <td>88.0</td>\n",
              "      <td>16.0</td>\n",
              "      <td>7.8</td>\n",
              "      <td>2060.0</td>\n",
              "      <td>48.827458</td>\n",
              "      <td>2.158779</td>\n",
              "    </tr>\n",
              "    <tr>\n",
              "      <th>6908</th>\n",
              "      <td>2015.0</td>\n",
              "      <td>MASTER LMD</td>\n",
              "      <td>Cergy-Pontoise</td>\n",
              "      <td>Versailles</td>\n",
              "      <td>Sciences humaines et sociales</td>\n",
              "      <td>Ensemble sciences humaines et sociales</td>\n",
              "      <td>18 mois après le diplôme</td>\n",
              "      <td>82.0</td>\n",
              "      <td>70.0</td>\n",
              "      <td>87.0</td>\n",
              "      <td>16.0</td>\n",
              "      <td>7.8</td>\n",
              "      <td>2060.0</td>\n",
              "      <td>48.827458</td>\n",
              "      <td>2.158779</td>\n",
              "    </tr>\n",
              "  </tbody>\n",
              "</table>\n",
              "<p>6908 rows × 15 columns</p>\n",
              "</div>"
            ],
            "text/plain": [
              "       annee     diplome  ... long_academie lat_academie\n",
              "0     2016.0  MASTER LMD  ...     43.784646     5.356600\n",
              "1     2016.0  MASTER LMD  ...     43.784646     5.356600\n",
              "2     2017.0  MASTER LMD  ...     43.784646     5.356600\n",
              "3     2017.0  MASTER LMD  ...     43.784646     5.356600\n",
              "4     2017.0  MASTER LMD  ...     43.784646     5.356600\n",
              "...      ...         ...  ...           ...          ...\n",
              "6904  2015.0  MASTER LMD  ...     48.827458     2.158779\n",
              "6905  2015.0  MASTER ENS  ...     48.827458     2.158779\n",
              "6906  2015.0  MASTER LMD  ...     48.827458     2.158779\n",
              "6907  2015.0  MASTER LMD  ...     48.827458     2.158779\n",
              "6908  2015.0  MASTER LMD  ...     48.827458     2.158779\n",
              "\n",
              "[6908 rows x 15 columns]"
            ]
          },
          "metadata": {},
          "execution_count": 3
        }
      ]
    },
    {
      "cell_type": "markdown",
      "metadata": {
        "id": "c744f6af"
      },
      "source": [
        "Il représente l'évolution de l'insertion professionnelle entre 2010 et 2017 pour des universitaires (comme vous) qui étudient différentes disciplines dans différentes universités, chacune appartenant a une région (la colonne académie).\n",
        "\n",
        "Pour chaque région il est spécifié le taux de chômage régional de chaque année, ainsi que sa longitude et sa lattitude."
      ],
      "id": "c744f6af"
    },
    {
      "cell_type": "code",
      "metadata": {
        "id": "81736208",
        "colab": {
          "base_uri": "https://localhost:8080/"
        },
        "outputId": "9d4cbf8d-4d2b-41b7-ec8b-aecf6781375f"
      },
      "source": [
        "np.unique(df.annee)"
      ],
      "id": "81736208",
      "execution_count": 4,
      "outputs": [
        {
          "output_type": "execute_result",
          "data": {
            "text/plain": [
              "array([2010., 2011., 2012., 2013., 2014., 2015., 2016., 2017.])"
            ]
          },
          "metadata": {},
          "execution_count": 4
        }
      ]
    },
    {
      "cell_type": "markdown",
      "metadata": {
        "id": "e1b4d57c"
      },
      "source": [
        "### Questions directes"
      ],
      "id": "e1b4d57c"
    },
    {
      "cell_type": "markdown",
      "metadata": {
        "id": "49243a69"
      },
      "source": [
        "1- Combien y'a il d'établissements représentés par cette étude ? (1pt) \n",
        "Indication : utiliser .shape[0] pour formatter correctement le résultat"
      ],
      "id": "49243a69"
    },
    {
      "cell_type": "code",
      "metadata": {
        "id": "19af99b6",
        "colab": {
          "base_uri": "https://localhost:8080/"
        },
        "outputId": "bb27242b-7774-4bbd-b15a-6d04f1f71be6"
      },
      "source": [
        ""
      ],
      "id": "19af99b6",
      "execution_count": null,
      "outputs": [
        {
          "output_type": "execute_result",
          "data": {
            "text/plain": [
              "77"
            ]
          },
          "metadata": {},
          "execution_count": 32
        }
      ]
    },
    {
      "cell_type": "markdown",
      "metadata": {
        "id": "Ciul1wojJD_s"
      },
      "source": [
        "2- Récupérer les valeurs possibles des noms d'académie. (1pt)"
      ],
      "id": "Ciul1wojJD_s"
    },
    {
      "cell_type": "code",
      "metadata": {
        "colab": {
          "base_uri": "https://localhost:8080/"
        },
        "id": "gZAo9akpJDWl",
        "outputId": "65837368-dd61-4355-cc91-02dbe2378c52"
      },
      "source": [
        ""
      ],
      "id": "gZAo9akpJDWl",
      "execution_count": null,
      "outputs": [
        {
          "output_type": "execute_result",
          "data": {
            "text/plain": [
              "array(['Aix-Marseille', 'Amiens', 'Besançon', 'Bordeaux',\n",
              "       'Clermont-Ferrand', 'Créteil', 'Dijon', 'Grenoble', 'Lille',\n",
              "       'Limoges', 'Lyon', 'Montpellier', 'Nancy-Metz', 'Nantes', 'Nice',\n",
              "       'Orléans-Tours', 'Paris', 'Poitiers', 'Reims', 'Rennes',\n",
              "       'Strasbourg', 'Toulouse', 'Versailles'], dtype=object)"
            ]
          },
          "metadata": {},
          "execution_count": 34
        }
      ]
    },
    {
      "cell_type": "markdown",
      "metadata": {
        "id": "8H_3PPqoJJfI"
      },
      "source": [
        "3- Pour chaque région, identifier la liste des établissements. (1pt)"
      ],
      "id": "8H_3PPqoJJfI"
    },
    {
      "cell_type": "code",
      "metadata": {
        "colab": {
          "base_uri": "https://localhost:8080/"
        },
        "id": "5oPTOgZ7JMj2",
        "outputId": "08efdf35-fc8c-46b2-f9fc-d63538f42443"
      },
      "source": [
        ""
      ],
      "id": "5oPTOgZ7JMj2",
      "execution_count": null,
      "outputs": [
        {
          "output_type": "execute_result",
          "data": {
            "text/plain": [
              "{'Aix-Marseille': array(['Aix-Marseille', 'Avignon'], dtype=object),\n",
              " 'Amiens': array(['Amiens - Picardie Jules-Verne'], dtype=object),\n",
              " 'Besançon': array(['Besançon - Franche-Comté'], dtype=object),\n",
              " 'Bordeaux': array(['Bordeaux', 'Bordeaux - Montaigne',\n",
              "        'Bordeaux 1 - Sciences technologies',\n",
              "        'Bordeaux 2 - Victor Segalen', 'Bordeaux 4 - Montesquieu',\n",
              "        \"Pau - Pays de l'Adour\"], dtype=object),\n",
              " 'Clermont-Ferrand': array(['Clermont Auvergne', 'Clermont-Ferrand 1 - Auvergne',\n",
              "        'Clermont-Ferrand 2 - Blaise Pascal'], dtype=object),\n",
              " 'Créteil': array(['Paris 8 - Vincennes Saint-Denis', 'Paris-Est Créteil',\n",
              "        'Paris-Est Marne-la-Vallée', 'Université Sorbonne Paris Nord'],\n",
              "       dtype=object),\n",
              " 'Dijon': array(['Dijon - Bourgogne'], dtype=object),\n",
              " 'Grenoble': array(['Grenoble 1 - Joseph Fourier', 'Grenoble 2 - Pierre Mendès France',\n",
              "        'Grenoble 3 - Stendhal', 'Grenoble Alpes', 'Savoie Mont Blanc'],\n",
              "       dtype=object),\n",
              " 'Lille': array(['Artois', 'Lille', 'Lille 1 - Sciences technologies',\n",
              "        'Lille 2 - Droit et santé', 'Lille 3 - Charles-de-Gaulle',\n",
              "        'Lille Nord de France', \"Littoral - Côte d'Opale\",\n",
              "        'Université Polytechnique Hauts-de-France'], dtype=object),\n",
              " 'Limoges': array(['Limoges'], dtype=object),\n",
              " 'Lyon': array(['Lyon 1 - Claude Bernard', 'Lyon 2 - Lumière',\n",
              "        'Lyon 3 - Jean Moulin', 'Saint-Etienne - Jean Monnet'],\n",
              "       dtype=object),\n",
              " 'Montpellier': array(['Montpellier', 'Montpellier 1',\n",
              "        'Montpellier 2 - Sciences techniques du Languedoc',\n",
              "        'Montpellier 3 - Paul-Valéry', 'Perpignan - Via Domitia'],\n",
              "       dtype=object),\n",
              " 'Nancy-Metz': array(['Lorraine'], dtype=object),\n",
              " 'Nantes': array(['Angers', 'Le Mans', 'Nantes'], dtype=object),\n",
              " 'Nice': array(['Nice - Sophia-Antipolis', 'Toulon'], dtype=object),\n",
              " 'Orléans-Tours': array(['Orléans', 'Tours'], dtype=object),\n",
              " 'Paris': array(['Paris 1 - Panthéon Sorbonne', 'Paris 2 - Panthéon Assas',\n",
              "        'Paris 3 - Sorbonne Nouvelle', 'Paris 4 - Sorbonne',\n",
              "        'Paris 7 - Denis Diderot', 'Paris Pierre et Marie Curie',\n",
              "        'Paris René Descartes', 'Sorbonne Université',\n",
              "        'Université de Paris'], dtype=object),\n",
              " 'Poitiers': array(['La Rochelle', 'Poitiers'], dtype=object),\n",
              " 'Reims': array(['Reims - Champagne Ardenne'], dtype=object),\n",
              " 'Rennes': array(['Brest - Bretagne occidentale', 'Bretagne-Sud', 'Rennes 1',\n",
              "        'Rennes 2'], dtype=object),\n",
              " 'Strasbourg': array(['Mulhouse - Haute Alsace', 'Strasbourg'], dtype=object),\n",
              " 'Toulouse': array(['INU Jean-François Champollion', 'Toulouse - Jean Jaures',\n",
              "        'Toulouse 1 - Capitole', 'Toulouse 3 - Paul Sabatier'],\n",
              "       dtype=object),\n",
              " 'Versailles': array(['Cergy-Pontoise', 'Paris 11 - Paris Sud', 'Paris Nanterre',\n",
              "        'Paris-Saclay', 'Versailles Saint-Quentin-en-Yvelines',\n",
              "        \"Évry-Val d'Essonne\"], dtype=object)}"
            ]
          },
          "metadata": {},
          "execution_count": 36
        }
      ]
    },
    {
      "cell_type": "markdown",
      "metadata": {
        "id": "e8c78c24"
      },
      "source": [
        "\n",
        "\n",
        "\n",
        "4- Identifier la région qui a le plus d'établissements.  Celle qui en a le moins. Préciser les valeurs de min et max pour chaque cas (1pt)"
      ],
      "id": "e8c78c24"
    },
    {
      "cell_type": "code",
      "metadata": {
        "id": "8ad26779",
        "colab": {
          "base_uri": "https://localhost:8080/"
        },
        "outputId": "66423bea-316b-4e29-94ea-5a1c7f0a4984"
      },
      "source": [
        ""
      ],
      "id": "8ad26779",
      "execution_count": null,
      "outputs": [
        {
          "output_type": "stream",
          "name": "stdout",
          "text": [
            "Le plus:  Paris  avec:  9\n",
            "Le moins:  Amiens  avec:  1\n"
          ]
        }
      ]
    },
    {
      "cell_type": "markdown",
      "metadata": {
        "id": "82d4b02a"
      },
      "source": [
        "### Question indirecte\n",
        "Cette question est moins guidée, vous devez réaliser la bonne analyse et commenter les résultats."
      ],
      "id": "82d4b02a"
    },
    {
      "cell_type": "markdown",
      "metadata": {
        "id": "818bba12"
      },
      "source": [
        "1- Le salaire est il proportionnel à l'éloignement vis-à-vis de Paris ? (indice: pensez à la corrélation) (2pt + 1 pt l'analyse)"
      ],
      "id": "818bba12"
    },
    {
      "cell_type": "code",
      "metadata": {
        "id": "dab94cdd",
        "colab": {
          "base_uri": "https://localhost:8080/"
        },
        "outputId": "94d3cb63-74de-4332-a916-0afdf99af37f"
      },
      "source": [
        ""
      ],
      "id": "dab94cdd",
      "execution_count": null,
      "outputs": [
        {
          "output_type": "execute_result",
          "data": {
            "text/plain": [
              "array([[ 1.        , -0.49965617],\n",
              "       [-0.49965617,  1.        ]])"
            ]
          },
          "metadata": {},
          "execution_count": 38
        }
      ]
    },
    {
      "cell_type": "markdown",
      "metadata": {
        "id": "a0268b6c"
      },
      "source": [
        "## Exercice 02 : Manipulation de lois\n",
        "\n",
        "Dans cet exercice, on s'intéresse à la consommation d'éléctricité durant une année, on modelisera cette consommation de différentes façons, avec différentes lois.\n",
        "\n",
        "L'ensemble de données montre l'évolution de la consommation éléctrique d'un foyer en fonction de la température, de l'heure, du jour de la semaine, et de la date.\n",
        "\n",
        "Cette consommation est représentée sous 4 formes: \n",
        "- consumption représente la consommation sous forme de flottant.\n",
        "- 3_levels représente la consommation représentée sur une échelle allant de 1 à 3 (1 peu, 2 moyen, 3 beaucoup)\n",
        "- 5_levels représente la consommation représentée sur une échelle allant de 1 à 3 (1 peu, ... , 5 beaucoup)\n",
        "- 7_levels représente la consommation représentée sur une échelle allant de 1 à 3 (1 peu, ... , 7 beaucoup)"
      ],
      "id": "a0268b6c"
    },
    {
      "cell_type": "code",
      "metadata": {
        "id": "716321dd",
        "colab": {
          "base_uri": "https://localhost:8080/",
          "height": 419
        },
        "outputId": "36b3e3fa-84db-4300-96e3-cf35453e5aca"
      },
      "source": [
        "df = pd.read_csv(\"Temporary/energy_consumption_levels.csv\")\n",
        "df"
      ],
      "id": "716321dd",
      "execution_count": 6,
      "outputs": [
        {
          "output_type": "execute_result",
          "data": {
            "text/html": [
              "<div>\n",
              "<style scoped>\n",
              "    .dataframe tbody tr th:only-of-type {\n",
              "        vertical-align: middle;\n",
              "    }\n",
              "\n",
              "    .dataframe tbody tr th {\n",
              "        vertical-align: top;\n",
              "    }\n",
              "\n",
              "    .dataframe thead th {\n",
              "        text-align: right;\n",
              "    }\n",
              "</style>\n",
              "<table border=\"1\" class=\"dataframe\">\n",
              "  <thead>\n",
              "    <tr style=\"text-align: right;\">\n",
              "      <th></th>\n",
              "      <th>3_levels</th>\n",
              "      <th>5_levels</th>\n",
              "      <th>7_levels</th>\n",
              "      <th>consumption</th>\n",
              "      <th>temperature</th>\n",
              "      <th>hour_of_day</th>\n",
              "      <th>day_of_week</th>\n",
              "      <th>day_of_month</th>\n",
              "      <th>month_of_year</th>\n",
              "    </tr>\n",
              "  </thead>\n",
              "  <tbody>\n",
              "    <tr>\n",
              "      <th>0</th>\n",
              "      <td>1</td>\n",
              "      <td>1</td>\n",
              "      <td>1</td>\n",
              "      <td>0.255000</td>\n",
              "      <td>-6.0</td>\n",
              "      <td>1</td>\n",
              "      <td>5</td>\n",
              "      <td>1</td>\n",
              "      <td>1</td>\n",
              "    </tr>\n",
              "    <tr>\n",
              "      <th>1</th>\n",
              "      <td>1</td>\n",
              "      <td>1</td>\n",
              "      <td>1</td>\n",
              "      <td>0.264000</td>\n",
              "      <td>-6.9</td>\n",
              "      <td>2</td>\n",
              "      <td>5</td>\n",
              "      <td>1</td>\n",
              "      <td>1</td>\n",
              "    </tr>\n",
              "    <tr>\n",
              "      <th>2</th>\n",
              "      <td>1</td>\n",
              "      <td>1</td>\n",
              "      <td>1</td>\n",
              "      <td>0.253000</td>\n",
              "      <td>-7.1</td>\n",
              "      <td>3</td>\n",
              "      <td>5</td>\n",
              "      <td>1</td>\n",
              "      <td>1</td>\n",
              "    </tr>\n",
              "    <tr>\n",
              "      <th>3</th>\n",
              "      <td>1</td>\n",
              "      <td>1</td>\n",
              "      <td>1</td>\n",
              "      <td>0.250000</td>\n",
              "      <td>-7.2</td>\n",
              "      <td>4</td>\n",
              "      <td>5</td>\n",
              "      <td>1</td>\n",
              "      <td>1</td>\n",
              "    </tr>\n",
              "    <tr>\n",
              "      <th>4</th>\n",
              "      <td>1</td>\n",
              "      <td>1</td>\n",
              "      <td>1</td>\n",
              "      <td>0.234000</td>\n",
              "      <td>-7.5</td>\n",
              "      <td>5</td>\n",
              "      <td>5</td>\n",
              "      <td>1</td>\n",
              "      <td>1</td>\n",
              "    </tr>\n",
              "    <tr>\n",
              "      <th>...</th>\n",
              "      <td>...</td>\n",
              "      <td>...</td>\n",
              "      <td>...</td>\n",
              "      <td>...</td>\n",
              "      <td>...</td>\n",
              "      <td>...</td>\n",
              "      <td>...</td>\n",
              "      <td>...</td>\n",
              "      <td>...</td>\n",
              "    </tr>\n",
              "    <tr>\n",
              "      <th>8779</th>\n",
              "      <td>3</td>\n",
              "      <td>4</td>\n",
              "      <td>6</td>\n",
              "      <td>0.842919</td>\n",
              "      <td>-1.9</td>\n",
              "      <td>20</td>\n",
              "      <td>6</td>\n",
              "      <td>31</td>\n",
              "      <td>12</td>\n",
              "    </tr>\n",
              "    <tr>\n",
              "      <th>8780</th>\n",
              "      <td>3</td>\n",
              "      <td>4</td>\n",
              "      <td>6</td>\n",
              "      <td>0.853757</td>\n",
              "      <td>-3.0</td>\n",
              "      <td>21</td>\n",
              "      <td>6</td>\n",
              "      <td>31</td>\n",
              "      <td>12</td>\n",
              "    </tr>\n",
              "    <tr>\n",
              "      <th>8781</th>\n",
              "      <td>2</td>\n",
              "      <td>2</td>\n",
              "      <td>3</td>\n",
              "      <td>0.631713</td>\n",
              "      <td>-3.4</td>\n",
              "      <td>22</td>\n",
              "      <td>6</td>\n",
              "      <td>31</td>\n",
              "      <td>12</td>\n",
              "    </tr>\n",
              "    <tr>\n",
              "      <th>8782</th>\n",
              "      <td>1</td>\n",
              "      <td>2</td>\n",
              "      <td>3</td>\n",
              "      <td>0.465262</td>\n",
              "      <td>-3.2</td>\n",
              "      <td>23</td>\n",
              "      <td>6</td>\n",
              "      <td>31</td>\n",
              "      <td>12</td>\n",
              "    </tr>\n",
              "    <tr>\n",
              "      <th>8783</th>\n",
              "      <td>1</td>\n",
              "      <td>2</td>\n",
              "      <td>2</td>\n",
              "      <td>0.373698</td>\n",
              "      <td>-3.9</td>\n",
              "      <td>24</td>\n",
              "      <td>6</td>\n",
              "      <td>31</td>\n",
              "      <td>12</td>\n",
              "    </tr>\n",
              "  </tbody>\n",
              "</table>\n",
              "<p>8784 rows × 9 columns</p>\n",
              "</div>"
            ],
            "text/plain": [
              "      3_levels  5_levels  7_levels  ...  day_of_week  day_of_month  month_of_year\n",
              "0            1         1         1  ...            5             1              1\n",
              "1            1         1         1  ...            5             1              1\n",
              "2            1         1         1  ...            5             1              1\n",
              "3            1         1         1  ...            5             1              1\n",
              "4            1         1         1  ...            5             1              1\n",
              "...        ...       ...       ...  ...          ...           ...            ...\n",
              "8779         3         4         6  ...            6            31             12\n",
              "8780         3         4         6  ...            6            31             12\n",
              "8781         2         2         3  ...            6            31             12\n",
              "8782         1         2         3  ...            6            31             12\n",
              "8783         1         2         2  ...            6            31             12\n",
              "\n",
              "[8784 rows x 9 columns]"
            ]
          },
          "metadata": {},
          "execution_count": 6
        }
      ]
    },
    {
      "cell_type": "markdown",
      "metadata": {
        "id": "b79ea882"
      },
      "source": [
        "### Loi normale\n",
        "\n",
        "Nous considérons pour chaque jour de la semaine la consommation réelle représentée par la colonne consumption.\n",
        "\n",
        "1) Ecrivez une fonction qui renvoie un vecteur de consommations correspondant a un jour donné de la semaine passé en paramètre."
      ],
      "id": "b79ea882"
    },
    {
      "cell_type": "code",
      "metadata": {
        "id": "f6f0824e"
      },
      "source": [
        "def get_consomation(jour):\n",
        "    return arr"
      ],
      "id": "f6f0824e",
      "execution_count": null,
      "outputs": []
    },
    {
      "cell_type": "markdown",
      "metadata": {
        "id": "rQdX4hhgwxAW"
      },
      "source": [
        "2) Testez cette fonction "
      ],
      "id": "rQdX4hhgwxAW"
    },
    {
      "cell_type": "code",
      "metadata": {
        "id": "29d0d99d",
        "colab": {
          "base_uri": "https://localhost:8080/"
        },
        "outputId": "a665b709-f8ea-4c79-e9a0-dcc1774ae2f6"
      },
      "source": [
        "get_consomation(1)"
      ],
      "id": "29d0d99d",
      "execution_count": null,
      "outputs": [
        {
          "output_type": "execute_result",
          "data": {
            "text/plain": [
              "array([0.295     , 0.291     , 0.29      , ..., 0.64029548, 0.41271847,\n",
              "       0.37450984])"
            ]
          },
          "metadata": {},
          "execution_count": 41
        }
      ]
    },
    {
      "cell_type": "markdown",
      "metadata": {
        "id": "918a5aad"
      },
      "source": [
        "3) Afficher un diagramme de violons de consommation par jour de la semaine (violinplot(array))"
      ],
      "id": "918a5aad"
    },
    {
      "cell_type": "code",
      "metadata": {
        "id": "d6dd5b2d",
        "colab": {
          "base_uri": "https://localhost:8080/",
          "height": 490
        },
        "outputId": "8025175c-1ab7-44e4-8bdf-945c8cec001e"
      },
      "source": [
        ""
      ],
      "id": "d6dd5b2d",
      "execution_count": null,
      "outputs": [
        {
          "output_type": "stream",
          "name": "stderr",
          "text": [
            "/usr/local/lib/python3.7/dist-packages/numpy/core/_asarray.py:83: VisibleDeprecationWarning: Creating an ndarray from ragged nested sequences (which is a list-or-tuple of lists-or-tuples-or ndarrays with different lengths or shapes) is deprecated. If you meant to do this, you must specify 'dtype=object' when creating the ndarray\n",
            "  return array(a, dtype, copy=False, order=order)\n"
          ]
        },
        {
          "output_type": "execute_result",
          "data": {
            "text/plain": [
              "{'bodies': [<matplotlib.collections.PolyCollection at 0x7ff46cde6f10>,\n",
              "  <matplotlib.collections.PolyCollection at 0x7ff46cdf1150>,\n",
              "  <matplotlib.collections.PolyCollection at 0x7ff46cdf1590>,\n",
              "  <matplotlib.collections.PolyCollection at 0x7ff46cdf18d0>,\n",
              "  <matplotlib.collections.PolyCollection at 0x7ff46cdf1c10>,\n",
              "  <matplotlib.collections.PolyCollection at 0x7ff46cdf1f50>,\n",
              "  <matplotlib.collections.PolyCollection at 0x7ff46cdfb450>],\n",
              " 'cbars': <matplotlib.collections.LineCollection at 0x7ff46cdfb2d0>,\n",
              " 'cmaxes': <matplotlib.collections.LineCollection at 0x7ff46cde6c10>,\n",
              " 'cmins': <matplotlib.collections.LineCollection at 0x7ff46cdfbc50>}"
            ]
          },
          "metadata": {},
          "execution_count": 42
        },
        {
          "output_type": "display_data",
          "data": {
            "image/png": "[encoded data removed]",
            "text/plain": [
              "<Figure size 432x288 with 1 Axes>"
            ]
          },
          "metadata": {
            "needs_background": "light"
          }
        }
      ]
    },
    {
      "cell_type": "markdown",
      "metadata": {
        "id": "a8676616"
      },
      "source": [
        "4) Ecrire une fonction qui étant donné une série de nombre réels renvoie les paramètres de la loi normale ($\\mu$, $\\sigma^2$)."
      ],
      "id": "a8676616"
    },
    {
      "cell_type": "code",
      "metadata": {
        "id": "1b84ccb1"
      },
      "source": [
        "def get_normal(x):\n",
        "  #VOTRE CODE"
      ],
      "id": "1b84ccb1",
      "execution_count": null,
      "outputs": []
    },
    {
      "cell_type": "markdown",
      "metadata": {
        "id": "20bcb59e"
      },
      "source": [
        "5) Récupérer pour chaque jour de la semaine les paramètres de la loi normale associée à la consommation électrique."
      ],
      "id": "20bcb59e"
    },
    {
      "cell_type": "code",
      "metadata": {
        "id": "33153bce",
        "colab": {
          "base_uri": "https://localhost:8080/"
        },
        "outputId": "df293404-a1a0-4f5c-dcb1-8588422d64ea"
      },
      "source": [
        "normales_consumption = [## VOTRE CODE]\n",
        "normales_consumption"
      ],
      "id": "33153bce",
      "execution_count": null,
      "outputs": [
        {
          "output_type": "execute_result",
          "data": {
            "text/plain": [
              "[(0.65879280990625, 0.06207788736623546),\n",
              " (0.6682843701530449, 0.05888260663451147),\n",
              " (0.665888570766827, 0.06124391273126134),\n",
              " (0.6744616025753205, 0.06543729535050985),\n",
              " (0.6816437214441824, 0.07373021150675024),\n",
              " (0.6893045187177672, 0.07516774084296009),\n",
              " (0.6604842706899038, 0.06948845594836761)]"
            ]
          },
          "metadata": {},
          "execution_count": 44
        }
      ]
    },
    {
      "cell_type": "markdown",
      "metadata": {
        "id": "9f2014f5"
      },
      "source": [
        "6) Ecrire une fonction sample_week() qui prend en entrée un array stockant tous les paramètres de la loi normale pour chacun des jours de la semaine (question 5). Pour chaque jeu de paramètres ($\\mu$, $\\sigma^2$), on tire selon une loi normale une valeur de consommation. Le tout correspond à la consommation d'une semaine suivant les lois respectives de chaque jour de le semaine. \n"
      ],
      "id": "9f2014f5"
    },
    {
      "cell_type": "code",
      "metadata": {
        "id": "7c1d30a4"
      },
      "source": [
        "def sample_week(normales_consumption):\n",
        "    cons = [## VOTRE CODE]\n",
        "    return np.array(cons)"
      ],
      "id": "7c1d30a4",
      "execution_count": null,
      "outputs": []
    },
    {
      "cell_type": "code",
      "metadata": {
        "id": "2278acc7",
        "colab": {
          "base_uri": "https://localhost:8080/"
        },
        "outputId": "4e8cf6ee-a194-4007-d8db-2384f7e42e17"
      },
      "source": [
        "sample_week(normales_consumption)"
      ],
      "id": "2278acc7",
      "execution_count": null,
      "outputs": [
        {
          "output_type": "execute_result",
          "data": {
            "text/plain": [
              "array([0.7071809 , 0.72654703, 0.69801357, 0.72105859, 0.66096288,\n",
              "       0.57938304, 0.69396369])"
            ]
          },
          "metadata": {},
          "execution_count": 46
        }
      ]
    },
    {
      "cell_type": "markdown",
      "metadata": {
        "id": "d372e831"
      },
      "source": [
        "7) Calculer la consommation moyenne de 700 tirages, 7000 tirages, 70000 tirages (qu'on tire 7 par 7 en utilisant sample_week) et comparez la avec la consommation moyenne que vous récupérer du dataset."
      ],
      "id": "d372e831"
    },
    {
      "cell_type": "code",
      "metadata": {
        "id": "a3a73f70",
        "colab": {
          "base_uri": "https://localhost:8080/"
        },
        "outputId": "d5a9cb03-3465-445e-9fc6-93344061b804"
      },
      "source": [
        "## VOTRE CODE"
      ],
      "id": "a3a73f70",
      "execution_count": null,
      "outputs": [
        {
          "output_type": "execute_result",
          "data": {
            "text/plain": [
              "0.6769698652381656"
            ]
          },
          "metadata": {},
          "execution_count": 47
        }
      ]
    },
    {
      "cell_type": "code",
      "metadata": {
        "id": "aa523796",
        "colab": {
          "base_uri": "https://localhost:8080/"
        },
        "outputId": "beaf6fe0-7843-4cec-80e3-4a2e72b5db03"
      },
      "source": [
        "## VOTRE CODE"
      ],
      "id": "aa523796",
      "execution_count": null,
      "outputs": [
        {
          "output_type": "execute_result",
          "data": {
            "text/plain": [
              "0.6719283445707447"
            ]
          },
          "metadata": {},
          "execution_count": 48
        }
      ]
    },
    {
      "cell_type": "code",
      "metadata": {
        "id": "39e55d92",
        "colab": {
          "base_uri": "https://localhost:8080/"
        },
        "outputId": "b36220fb-4c3b-4b4b-d829-b2a2ecd2c980"
      },
      "source": [
        "## VOTRE CODE"
      ],
      "id": "39e55d92",
      "execution_count": null,
      "outputs": [
        {
          "output_type": "execute_result",
          "data": {
            "text/plain": [
              "0.6715535184384759"
            ]
          },
          "metadata": {},
          "execution_count": 49
        }
      ]
    },
    {
      "cell_type": "code",
      "metadata": {
        "id": "82ddcbb6",
        "colab": {
          "base_uri": "https://localhost:8080/"
        },
        "outputId": "715eb1ee-5ace-42bf-956a-4db21f8d7683"
      },
      "source": [
        "## VOTRE CODE"
      ],
      "id": "82ddcbb6",
      "execution_count": null,
      "outputs": [
        {
          "output_type": "execute_result",
          "data": {
            "text/plain": [
              "0.6713433365610222"
            ]
          },
          "metadata": {},
          "execution_count": 50
        }
      ]
    },
    {
      "cell_type": "markdown",
      "metadata": {
        "id": "15e31e44"
      },
      "source": [
        "### Regression Linéaires\n",
        "On considère le tableau suivant stocké dans la variable grouped :"
      ],
      "id": "15e31e44"
    },
    {
      "cell_type": "code",
      "metadata": {
        "id": "9f37f608",
        "colab": {
          "base_uri": "https://localhost:8080/",
          "height": 419
        },
        "outputId": "549d3321-b20a-41ca-abd8-b62d7ce78e89"
      },
      "source": [
        "grouped = df.groupby(\"temperature\").mean().reset_index()[[\"temperature\", \"consumption\"]]\n",
        "grouped"
      ],
      "id": "9f37f608",
      "execution_count": null,
      "outputs": [
        {
          "output_type": "execute_result",
          "data": {
            "text/html": [
              "<div>\n",
              "<style scoped>\n",
              "    .dataframe tbody tr th:only-of-type {\n",
              "        vertical-align: middle;\n",
              "    }\n",
              "\n",
              "    .dataframe tbody tr th {\n",
              "        vertical-align: top;\n",
              "    }\n",
              "\n",
              "    .dataframe thead th {\n",
              "        text-align: right;\n",
              "    }\n",
              "</style>\n",
              "<table border=\"1\" class=\"dataframe\">\n",
              "  <thead>\n",
              "    <tr style=\"text-align: right;\">\n",
              "      <th></th>\n",
              "      <th>temperature</th>\n",
              "      <th>consumption</th>\n",
              "    </tr>\n",
              "  </thead>\n",
              "  <tbody>\n",
              "    <tr>\n",
              "      <th>0</th>\n",
              "      <td>-21.8</td>\n",
              "      <td>0.8410</td>\n",
              "    </tr>\n",
              "    <tr>\n",
              "      <th>1</th>\n",
              "      <td>-21.2</td>\n",
              "      <td>0.3190</td>\n",
              "    </tr>\n",
              "    <tr>\n",
              "      <th>2</th>\n",
              "      <td>-20.5</td>\n",
              "      <td>0.4175</td>\n",
              "    </tr>\n",
              "    <tr>\n",
              "      <th>3</th>\n",
              "      <td>-20.4</td>\n",
              "      <td>0.3020</td>\n",
              "    </tr>\n",
              "    <tr>\n",
              "      <th>4</th>\n",
              "      <td>-20.3</td>\n",
              "      <td>0.6520</td>\n",
              "    </tr>\n",
              "    <tr>\n",
              "      <th>...</th>\n",
              "      <td>...</td>\n",
              "      <td>...</td>\n",
              "    </tr>\n",
              "    <tr>\n",
              "      <th>529</th>\n",
              "      <td>35.4</td>\n",
              "      <td>1.2740</td>\n",
              "    </tr>\n",
              "    <tr>\n",
              "      <th>530</th>\n",
              "      <td>35.5</td>\n",
              "      <td>1.2230</td>\n",
              "    </tr>\n",
              "    <tr>\n",
              "      <th>531</th>\n",
              "      <td>36.3</td>\n",
              "      <td>1.2840</td>\n",
              "    </tr>\n",
              "    <tr>\n",
              "      <th>532</th>\n",
              "      <td>36.4</td>\n",
              "      <td>1.2980</td>\n",
              "    </tr>\n",
              "    <tr>\n",
              "      <th>533</th>\n",
              "      <td>36.5</td>\n",
              "      <td>1.2740</td>\n",
              "    </tr>\n",
              "  </tbody>\n",
              "</table>\n",
              "<p>534 rows × 2 columns</p>\n",
              "</div>"
            ],
            "text/plain": [
              "     temperature  consumption\n",
              "0          -21.8       0.8410\n",
              "1          -21.2       0.3190\n",
              "2          -20.5       0.4175\n",
              "3          -20.4       0.3020\n",
              "4          -20.3       0.6520\n",
              "..           ...          ...\n",
              "529         35.4       1.2740\n",
              "530         35.5       1.2230\n",
              "531         36.3       1.2840\n",
              "532         36.4       1.2980\n",
              "533         36.5       1.2740\n",
              "\n",
              "[534 rows x 2 columns]"
            ]
          },
          "metadata": {},
          "execution_count": 51
        }
      ]
    },
    {
      "cell_type": "markdown",
      "metadata": {
        "id": "1-WjGrm7zSYD"
      },
      "source": [
        "1) Afficher le graphique qui exprime la température en fonction de la consommation."
      ],
      "id": "1-WjGrm7zSYD"
    },
    {
      "cell_type": "code",
      "metadata": {
        "id": "a26c8cef",
        "colab": {
          "base_uri": "https://localhost:8080/",
          "height": 282
        },
        "outputId": "1da5068a-a237-48a8-ede2-1e30cb508f69"
      },
      "source": [
        "## VOTRE CODE"
      ],
      "id": "a26c8cef",
      "execution_count": null,
      "outputs": [
        {
          "output_type": "execute_result",
          "data": {
            "text/plain": [
              "[<matplotlib.lines.Line2D at 0x7ff46cd6ffd0>]"
            ]
          },
          "metadata": {},
          "execution_count": 52
        },
        {
          "output_type": "display_data",
          "data": {
            "image/png": "[encoded data removed]",
            "text/plain": [
              "<Figure size 432x288 with 1 Axes>"
            ]
          },
          "metadata": {
            "needs_background": "light"
          }
        }
      ]
    },
    {
      "cell_type": "markdown",
      "metadata": {
        "id": "5925747b"
      },
      "source": [
        "2) Calculer le modèle :\n",
        "$$ y = ax + b $$ ou $x$ est la température et $y$ la consommation.\n",
        "\n",
        "En d'autres termes, trouver les valeurs de a et b et construire une fonction prediction(a,b) qui prédit la consommation en fonction de la température."
      ],
      "id": "5925747b"
    },
    {
      "cell_type": "code",
      "metadata": {
        "id": "2db71420",
        "colab": {
          "base_uri": "https://localhost:8080/"
        },
        "outputId": "35762c7f-6ad3-449b-e0f0-bf8c603f63db"
      },
      "source": [
        "#VOTRE CODE\n",
        "\n",
        "w = [a,b] #tel que y = ax + b\n",
        "w"
      ],
      "id": "2db71420",
      "execution_count": null,
      "outputs": [
        {
          "output_type": "execute_result",
          "data": {
            "text/plain": [
              "array([0.01094282, 0.60676202])"
            ]
          },
          "metadata": {},
          "execution_count": 53
        }
      ]
    },
    {
      "cell_type": "markdown",
      "metadata": {
        "id": "500b8081"
      },
      "source": [
        "3) Afficher la droite de regression par dessus la courbe précédente, commenter."
      ],
      "id": "500b8081"
    },
    {
      "cell_type": "code",
      "metadata": {
        "id": "115c9034",
        "colab": {
          "base_uri": "https://localhost:8080/",
          "height": 282
        },
        "outputId": "ec41439a-e873-44af-a365-7e7ab2b5d28d"
      },
      "source": [
        "#VOTRE CODE"
      ],
      "id": "115c9034",
      "execution_count": null,
      "outputs": [
        {
          "output_type": "execute_result",
          "data": {
            "text/plain": [
              "[<matplotlib.lines.Line2D at 0x7ff46cceb710>]"
            ]
          },
          "metadata": {},
          "execution_count": 54
        },
        {
          "output_type": "display_data",
          "data": {
            "image/png": "[encoded data removed]",
            "text/plain": [
              "<Figure size 432x288 with 1 Axes>"
            ]
          },
          "metadata": {
            "needs_background": "light"
          }
        }
      ]
    },
    {
      "cell_type": "markdown",
      "metadata": {
        "id": "priospbVz_Eb"
      },
      "source": [
        "4) Calculer le coefficient de corrélation linéraire entre la température et la consommation. Commenter."
      ],
      "id": "priospbVz_Eb"
    },
    {
      "cell_type": "code",
      "metadata": {
        "id": "7d0f0d51",
        "colab": {
          "base_uri": "https://localhost:8080/"
        },
        "outputId": "4a9dba26-e498-43eb-a3b5-162040b37afe"
      },
      "source": [
        "#VOTRE CODE"
      ],
      "id": "7d0f0d51",
      "execution_count": 7,
      "outputs": [
        {
          "output_type": "execute_result",
          "data": {
            "text/plain": [
              "array([[1.        , 0.43409147],\n",
              "       [0.43409147, 1.        ]])"
            ]
          },
          "metadata": {},
          "execution_count": 7
        }
      ]
    }
  ]
}